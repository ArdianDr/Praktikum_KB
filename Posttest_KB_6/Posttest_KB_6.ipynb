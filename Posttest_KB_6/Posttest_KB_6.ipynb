{
 "cells": [
  {
   "cell_type": "markdown",
   "id": "79fb92b1-aa8c-4cae-82b2-711852794da9",
   "metadata": {},
   "source": [
    "# POSTTEST 6"
   ]
  },
  {
   "cell_type": "code",
   "execution_count": 1,
   "id": "763e5c9c-5eaa-4713-ba3f-7b8f2f1c7a07",
   "metadata": {},
   "outputs": [
    {
     "name": "stderr",
     "output_type": "stream",
     "text": [
      "C:\\Users\\NITRO 5\\venv_C2-21\\Ardi_130\\lib\\site-packages\\sklearn\\preprocessing\\_encoders.py:975: FutureWarning: `sparse` was renamed to `sparse_output` in version 1.2 and will be removed in 1.4. `sparse_output` is ignored unless you leave `sparse` to its default value.\n",
      "  warnings.warn(\n"
     ]
    },
    {
     "name": "stdout",
     "output_type": "stream",
     "text": [
      "Epoch 1/20\n",
      "232/232 [==============================] - 12s 46ms/step - loss: 714.9080 - accuracy: 0.0000e+00 - val_loss: 765.0627 - val_accuracy: 0.0000e+00\n",
      "Epoch 2/20\n",
      "232/232 [==============================] - 10s 42ms/step - loss: 713.2944 - accuracy: 0.0000e+00 - val_loss: 765.0596 - val_accuracy: 0.0000e+00\n",
      "Epoch 3/20\n",
      "232/232 [==============================] - 10s 43ms/step - loss: 713.2938 - accuracy: 0.0000e+00 - val_loss: 765.0586 - val_accuracy: 0.0000e+00\n",
      "Epoch 4/20\n",
      "232/232 [==============================] - 10s 44ms/step - loss: 713.2938 - accuracy: 0.0000e+00 - val_loss: 765.0585 - val_accuracy: 0.0000e+00\n",
      "Epoch 5/20\n",
      "232/232 [==============================] - 10s 44ms/step - loss: 713.2938 - accuracy: 0.0000e+00 - val_loss: 765.0585 - val_accuracy: 0.0000e+00\n",
      "Epoch 6/20\n",
      "232/232 [==============================] - 10s 42ms/step - loss: 713.2938 - accuracy: 0.0000e+00 - val_loss: 765.0585 - val_accuracy: 0.0000e+00\n",
      "Epoch 7/20\n",
      "232/232 [==============================] - 10s 41ms/step - loss: 713.2938 - accuracy: 0.0000e+00 - val_loss: 765.0585 - val_accuracy: 0.0000e+00\n",
      "Epoch 8/20\n",
      "232/232 [==============================] - 10s 42ms/step - loss: 713.2938 - accuracy: 0.0000e+00 - val_loss: 765.0585 - val_accuracy: 0.0000e+00\n",
      "Epoch 9/20\n",
      "232/232 [==============================] - 10s 41ms/step - loss: 713.2938 - accuracy: 0.0000e+00 - val_loss: 765.0585 - val_accuracy: 0.0000e+00\n",
      "Epoch 10/20\n",
      "232/232 [==============================] - 10s 43ms/step - loss: 713.2938 - accuracy: 0.0000e+00 - val_loss: 765.0585 - val_accuracy: 0.0000e+00\n",
      "Epoch 11/20\n",
      "232/232 [==============================] - 10s 43ms/step - loss: 713.2938 - accuracy: 0.0000e+00 - val_loss: 765.0585 - val_accuracy: 0.0000e+00\n",
      "Epoch 12/20\n",
      "232/232 [==============================] - 10s 45ms/step - loss: 713.2938 - accuracy: 0.0000e+00 - val_loss: 765.0585 - val_accuracy: 0.0000e+00\n",
      "Epoch 13/20\n",
      "232/232 [==============================] - 10s 45ms/step - loss: 713.2938 - accuracy: 0.0000e+00 - val_loss: 765.0585 - val_accuracy: 0.0000e+00\n",
      "Epoch 14/20\n",
      "232/232 [==============================] - 11s 46ms/step - loss: 713.2938 - accuracy: 0.0000e+00 - val_loss: 765.0585 - val_accuracy: 0.0000e+00\n",
      "Epoch 15/20\n",
      "232/232 [==============================] - 11s 45ms/step - loss: 713.2938 - accuracy: 0.0000e+00 - val_loss: 765.0585 - val_accuracy: 0.0000e+00\n",
      "Epoch 16/20\n",
      "232/232 [==============================] - 10s 43ms/step - loss: 713.2938 - accuracy: 0.0000e+00 - val_loss: 765.0585 - val_accuracy: 0.0000e+00\n",
      "Epoch 17/20\n",
      "232/232 [==============================] - 10s 42ms/step - loss: 713.2938 - accuracy: 0.0000e+00 - val_loss: 765.0585 - val_accuracy: 0.0000e+00\n",
      "Epoch 18/20\n",
      "232/232 [==============================] - 10s 42ms/step - loss: 713.2938 - accuracy: 0.0000e+00 - val_loss: 765.0585 - val_accuracy: 0.0000e+00\n",
      "Epoch 19/20\n",
      "232/232 [==============================] - 10s 44ms/step - loss: 713.2938 - accuracy: 0.0000e+00 - val_loss: 765.0585 - val_accuracy: 0.0000e+00\n",
      "Epoch 20/20\n",
      "232/232 [==============================] - 10s 45ms/step - loss: 713.2938 - accuracy: 0.0000e+00 - val_loss: 765.0585 - val_accuracy: 0.0000e+00\n"
     ]
    }
   ],
   "source": [
    "import pandas as pd\n",
    "from sklearn.model_selection import train_test_split\n",
    "from sklearn.preprocessing import StandardScaler, LabelEncoder\n",
    "import tensorflow as tf\n",
    "from tensorflow.keras.models import Sequential\n",
    "from tensorflow.keras.layers import Dense\n",
    "from tensorflow.keras.callbacks import EarlyStopping, ModelCheckpoint\n",
    "from sklearn.metrics import accuracy_score\n",
    "import matplotlib.pyplot as plt\n",
    "from sklearn.preprocessing import OneHotEncoder\n",
    "\n",
    "# Menampilkan Dataset\n",
    "df = pd.read_csv('Fifa 23 Players Data.csv')\n",
    "\n",
    "# SPLIT DATASET\n",
    "X = df.iloc[:,:-1] \n",
    "y = df.iloc[:,-1]\n",
    "\n",
    "# Encoding Target\n",
    "LE = LabelEncoder()\n",
    "df['Overall'] = LE.fit_transform(df['Overall'])\n",
    "\n",
    "# Split the data into training and testing sets\n",
    "X_train, X_test, y_train, y_test = train_test_split(X, y, test_size=0.2, random_state=42)\n",
    "\n",
    "# Memisahkan Kolom Numerik dan Kategorikal\n",
    "numeric_cols = [col for col in X_train.columns if X_train[col].dtype != 'object']\n",
    "categorical_cols = [col for col in X_train.columns if X_train[col].dtype == 'object']\n",
    "\n",
    "# Menggunakan OneHotEncoder Untuk Kolom Kategorikal\n",
    "encoder = OneHotEncoder(sparse=False, handle_unknown='ignore')\n",
    "X_train_encoded = encoder.fit_transform(X_train[categorical_cols])\n",
    "X_test_encoded = encoder.transform(X_test[categorical_cols])\n",
    "\n",
    "# Konversi Dataset Menjadi Float32\n",
    "X_train[numeric_cols] = X_train[numeric_cols].astype('float32')\n",
    "X_test[numeric_cols] = X_test[numeric_cols].astype('float32')\n",
    "y_train = y_train.astype('float32')\n",
    "y_test = y_test.astype('float32')\n",
    "\n",
    "# Model Squential\n",
    "model = Sequential()\n",
    "model.add(Dense(64, activation='relu', input_dim=X_train_encoded.shape[1]))\n",
    "model.add(Dense(32, activation='relu'))\n",
    "model.add(Dense(1, activation='sigmoid'))\n",
    "\n",
    "# Compile the model\n",
    "model.compile(optimizer='adam', loss='mean_squared_error', metrics=['accuracy'])\n",
    "\n",
    "# Menggunakan Callbacks\n",
    "class MyCallback(tf.keras.callbacks.Callback):\n",
    "    def on_epoch_end(self, epoch, logs={}):\n",
    "        if(logs.get('accuracy') > 0.93 and logs.get('val_accuracy') > 0.93):\n",
    "            self.model.stop_training = True\n",
    "\n",
    "# Pelatihan Model\n",
    "call = MyCallback()\n",
    "history = model.fit(\n",
    "    X_train_encoded,\n",
    "    y_train,\n",
    "    epochs=20,\n",
    "    batch_size=64,\n",
    "    validation_data=(X_test_encoded, y_test),\n",
    "    callbacks=[call]\n",
    ")\n"
   ]
  },
  {
   "cell_type": "markdown",
   "id": "5f97d8d6-0fb4-41be-81c0-fecc22a09d8e",
   "metadata": {},
   "source": [
    "### Model Sequential"
   ]
  },
  {
   "cell_type": "code",
   "execution_count": 4,
   "id": "e7e1b3d4-c495-4ce0-ab1e-afce32c1a695",
   "metadata": {},
   "outputs": [
    {
     "name": "stdout",
     "output_type": "stream",
     "text": [
      "Model: \"sequential\"\n",
      "_________________________________________________________________\n",
      " Layer (type)                Output Shape              Param #   \n",
      "=================================================================\n",
      " dense (Dense)               (None, 64)                2903808   \n",
      "                                                                 \n",
      " dense_1 (Dense)             (None, 32)                2080      \n",
      "                                                                 \n",
      " dense_2 (Dense)             (None, 1)                 33        \n",
      "                                                                 \n",
      "=================================================================\n",
      "Total params: 2905921 (11.09 MB)\n",
      "Trainable params: 2905921 (11.09 MB)\n",
      "Non-trainable params: 0 (0.00 Byte)\n",
      "_________________________________________________________________\n"
     ]
    }
   ],
   "source": [
    "model.summary()"
   ]
  },
  {
   "cell_type": "markdown",
   "id": "2775b1cf-7d70-4683-bdd9-bfc4b6f91dd5",
   "metadata": {},
   "source": [
    "### Evaluasi Model"
   ]
  },
  {
   "cell_type": "code",
   "execution_count": 2,
   "id": "20b52721-b5eb-4a13-a1f6-d7883cd4bba4",
   "metadata": {},
   "outputs": [
    {
     "name": "stdout",
     "output_type": "stream",
     "text": [
      "116/116 [==============================] - 1s 5ms/step - loss: 765.0585 - accuracy: 0.0000e+00\n",
      "Test loss     : 765.0585327148438\n",
      "Test accuracy : 0.0\n"
     ]
    }
   ],
   "source": [
    "score = model.evaluate(X_test_encoded, y_test, verbose=1)\n",
    "print('Test loss     :', score[0])\n",
    "print('Test accuracy :', score[1])"
   ]
  },
  {
   "cell_type": "markdown",
   "id": "2e5913e9-ab1a-487d-97c4-7e95b9d88f0b",
   "metadata": {},
   "source": [
    "### Grafik Perbandingan Accuracy dan Loss dari Train dan Test"
   ]
  },
  {
   "cell_type": "code",
   "execution_count": 3,
   "id": "bec4048f-862e-4e66-9b4d-f42eee160d69",
   "metadata": {},
   "outputs": [
    {
     "data": {
      "image/png": "[encoded data removed]",
      "text/plain": [
       "<Figure size 1200x400 with 2 Axes>"
      ]
     },
     "metadata": {},
     "output_type": "display_data"
    }
   ],
   "source": [
    "plt.figure(figsize=(12, 4))\n",
    "plt.subplot(1, 2, 1)\n",
    "plt.plot(history.history['accuracy'], label='Train Accuracy')\n",
    "plt.plot(history.history['val_accuracy'], label='Validation Accuracy')\n",
    "plt.legend()\n",
    "plt.title('Validation Accuracy')\n",
    "\n",
    "plt.subplot(1, 2, 2)\n",
    "plt.plot(history.history['loss'], label='Train Loss')\n",
    "plt.plot(history.history['val_loss'], label='Validation Loss')\n",
    "plt.legend()\n",
    "plt.title('Validation Loss')\n",
    "\n",
    "plt.tight_layout()\n",
    "plt.show()"
   ]
  },
  {
   "cell_type": "code",
   "execution_count": null,
   "id": "757ebea8-8510-4b54-89a1-18ace8ee9fd3",
   "metadata": {},
   "outputs": [],
   "source": []
  }
 ],
 "metadata": {
  "kernelspec": {
   "display_name": "Ardi_130",
   "language": "python",
   "name": "ardi_130"
  },
  "language_info": {
   "codemirror_mode": {
    "name": "ipython",
    "version": 3
   },
   "file_extension": ".py",
   "mimetype": "text/x-python",
   "name": "python",
   "nbconvert_exporter": "python",
   "pygments_lexer": "ipython3",
   "version": "3.10.7"
  }
 },
 "nbformat": 4,
 "nbformat_minor": 5
}
