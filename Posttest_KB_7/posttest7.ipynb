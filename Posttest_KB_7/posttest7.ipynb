{
  "nbformat": 4,
  "nbformat_minor": 0,
  "metadata": {
    "colab": {
      "provenance": [],
      "gpuType": "T4"
    },
    "kernelspec": {
      "name": "python3",
      "display_name": "Python 3"
    },
    "language_info": {
      "name": "python"
    },
    "accelerator": "GPU"
  },
  "cells": [
    {
      "cell_type": "markdown",
      "source": [
        "LINK DATASET : https://www.kaggle.com/datasets/shreyapmaher/fruits-dataset-images/"
      ],
      "metadata": {
        "id": "ib8Y-IjKPqxm"
      }
    },
    {
      "cell_type": "code",
      "execution_count": 2,
      "metadata": {
        "id": "ssZz1HJb8Ayh"
      },
      "outputs": [],
      "source": [
        "!mkdir -p ~/.kaggle\n",
        "!cp kaggle.json ~/.kaggle/"
      ]
    },
    {
      "cell_type": "code",
      "source": [
        "!kaggle datasets download -d shreyapmaher/fruits-dataset-images"
      ],
      "metadata": {
        "colab": {
          "base_uri": "https://localhost:8080/"
        },
        "id": "ISvycDzzDXLB",
        "outputId": "3b970ef4-01da-412a-ea70-cc78a8b9733e"
      },
      "execution_count": 4,
      "outputs": [
        {
          "output_type": "stream",
          "name": "stdout",
          "text": [
            "Warning: Your Kaggle API key is readable by other users on this system! To fix this, you can run 'chmod 600 /root/.kaggle/kaggle.json'\n",
            "Downloading fruits-dataset-images.zip to /content\n",
            " 91% 187M/205M [00:01<00:00, 138MB/s]\n",
            "100% 205M/205M [00:01<00:00, 157MB/s]\n"
          ]
        }
      ]
    },
    {
      "cell_type": "code",
      "source": [
        "!unzip fruits-dataset-images.zip -d dataset_directory"
      ],
      "metadata": {
        "colab": {
          "base_uri": "https://localhost:8080/"
        },
        "id": "A0t2NtJBEpGA",
        "outputId": "ab8593c2-2d22-4ab5-fb47-1589ee609572"
      },
      "execution_count": 5,
      "outputs": [
        {
          "output_type": "stream",
          "name": "stdout",
          "text": [
            "Archive:  fruits-dataset-images.zip\n",
            "  inflating: dataset_directory/images/apple fruit/Image_1.jpg  \n",
            "  inflating: dataset_directory/images/apple fruit/Image_10.jpg  \n",
            "  inflating: dataset_directory/images/apple fruit/Image_11.jpg  \n",
            "  inflating: dataset_directory/images/apple fruit/Image_12.jpg  \n",
            "  inflating: dataset_directory/images/apple fruit/Image_13.png  \n",
            "  inflating: dataset_directory/images/apple fruit/Image_14.png  \n",
            "  inflating: dataset_directory/images/apple fruit/Image_15.jpg  \n",
            "  inflating: dataset_directory/images/apple fruit/Image_16.jpg  \n",
            "  inflating: dataset_directory/images/apple fruit/Image_17.jpeg  \n",
            "  inflating: dataset_directory/images/apple fruit/Image_18.jpg  \n",
            "  inflating: dataset_directory/images/apple fruit/Image_19.jpg  \n",
            "  inflating: dataset_directory/images/apple fruit/Image_2.jpg  \n",
            "  inflating: dataset_directory/images/apple fruit/Image_20.jpg  \n",
            "  inflating: dataset_directory/images/apple fruit/Image_21.jpg  \n",
            "  inflating: dataset_directory/images/apple fruit/Image_22.jpg  \n",
            "  inflating: dataset_directory/images/apple fruit/Image_23.png  \n",
            "  inflating: dataset_directory/images/apple fruit/Image_24.jpg  \n",
            "  inflating: dataset_directory/images/apple fruit/Image_25.jpg  \n",
            "  inflating: dataset_directory/images/apple fruit/Image_26.jpg  \n",
            "  inflating: dataset_directory/images/apple fruit/Image_27.jpg  \n",
            "  inflating: dataset_directory/images/apple fruit/Image_28.png  \n",
            "  inflating: dataset_directory/images/apple fruit/Image_29.jpg  \n",
            "  inflating: dataset_directory/images/apple fruit/Image_3.jpeg  \n",
            "  inflating: dataset_directory/images/apple fruit/Image_30.jpg  \n",
            "  inflating: dataset_directory/images/apple fruit/Image_31.png  \n",
            "  inflating: dataset_directory/images/apple fruit/Image_32.jpg  \n",
            "  inflating: dataset_directory/images/apple fruit/Image_33.jpg  \n",
            "  inflating: dataset_directory/images/apple fruit/Image_34.jpeg  \n",
            "  inflating: dataset_directory/images/apple fruit/Image_35.jpg  \n",
            "  inflating: dataset_directory/images/apple fruit/Image_36.jpg  \n",
            "  inflating: dataset_directory/images/apple fruit/Image_37.jpg  \n",
            "  inflating: dataset_directory/images/apple fruit/Image_38.jpg  \n",
            "  inflating: dataset_directory/images/apple fruit/Image_39.jpg  \n",
            "  inflating: dataset_directory/images/apple fruit/Image_4.jpg  \n",
            "  inflating: dataset_directory/images/apple fruit/Image_40.jpeg  \n",
            "  inflating: dataset_directory/images/apple fruit/Image_5.jpg  \n",
            "  inflating: dataset_directory/images/apple fruit/Image_6.jpg  \n",
            "  inflating: dataset_directory/images/apple fruit/Image_7.jpg  \n",
            "  inflating: dataset_directory/images/apple fruit/Image_8.jpg  \n",
            "  inflating: dataset_directory/images/apple fruit/Image_9.jpg  \n",
            "  inflating: dataset_directory/images/banana fruit/Image_1.jpg  \n",
            "  inflating: dataset_directory/images/banana fruit/Image_10.png  \n",
            "  inflating: dataset_directory/images/banana fruit/Image_11.jpg  \n",
            "  inflating: dataset_directory/images/banana fruit/Image_12.jpg  \n",
            "  inflating: dataset_directory/images/banana fruit/Image_13.jpg  \n",
            "  inflating: dataset_directory/images/banana fruit/Image_14.jpg  \n",
            "  inflating: dataset_directory/images/banana fruit/Image_15.jpg  \n",
            "  inflating: dataset_directory/images/banana fruit/Image_16.jpg  \n",
            "  inflating: dataset_directory/images/banana fruit/Image_17.jpg  \n",
            "  inflating: dataset_directory/images/banana fruit/Image_18.jpg  \n",
            "  inflating: dataset_directory/images/banana fruit/Image_19.jpg  \n",
            "  inflating: dataset_directory/images/banana fruit/Image_2.jpg  \n",
            "  inflating: dataset_directory/images/banana fruit/Image_20.jpg  \n",
            "  inflating: dataset_directory/images/banana fruit/Image_21.jpg  \n",
            "  inflating: dataset_directory/images/banana fruit/Image_22.jpg  \n",
            "  inflating: dataset_directory/images/banana fruit/Image_23.jpg  \n",
            "  inflating: dataset_directory/images/banana fruit/Image_24.jpg  \n",
            "  inflating: dataset_directory/images/banana fruit/Image_25.jpg  \n",
            "  inflating: dataset_directory/images/banana fruit/Image_26.jpg  \n",
            "  inflating: dataset_directory/images/banana fruit/Image_27.jpg  \n",
            "  inflating: dataset_directory/images/banana fruit/Image_28.jpg  \n",
            "  inflating: dataset_directory/images/banana fruit/Image_29.jpg  \n",
            "  inflating: dataset_directory/images/banana fruit/Image_3.jpeg  \n",
            "  inflating: dataset_directory/images/banana fruit/Image_30.jpg  \n",
            "  inflating: dataset_directory/images/banana fruit/Image_31.jpeg  \n",
            "  inflating: dataset_directory/images/banana fruit/Image_32.jpg  \n",
            "  inflating: dataset_directory/images/banana fruit/Image_33.jpg  \n",
            "  inflating: dataset_directory/images/banana fruit/Image_34.jpg  \n",
            "  inflating: dataset_directory/images/banana fruit/Image_35.jpg  \n",
            "  inflating: dataset_directory/images/banana fruit/Image_36.jpg  \n",
            "  inflating: dataset_directory/images/banana fruit/Image_37.png  \n",
            "  inflating: dataset_directory/images/banana fruit/Image_38.jpg  \n",
            "  inflating: dataset_directory/images/banana fruit/Image_39.jpg  \n",
            "  inflating: dataset_directory/images/banana fruit/Image_4.JPG  \n",
            "  inflating: dataset_directory/images/banana fruit/Image_40.png  \n",
            "  inflating: dataset_directory/images/banana fruit/Image_5.jpg  \n",
            "  inflating: dataset_directory/images/banana fruit/Image_6.jpg  \n",
            "  inflating: dataset_directory/images/banana fruit/Image_7.jpg  \n",
            "  inflating: dataset_directory/images/banana fruit/Image_8.jpg  \n",
            "  inflating: dataset_directory/images/banana fruit/Image_9.jpg  \n",
            "  inflating: dataset_directory/images/cherry fruit/Image_1.jpg  \n",
            "  inflating: dataset_directory/images/cherry fruit/Image_10.jpeg  \n",
            "  inflating: dataset_directory/images/cherry fruit/Image_11.jpeg  \n",
            "  inflating: dataset_directory/images/cherry fruit/Image_12.jpg  \n",
            "  inflating: dataset_directory/images/cherry fruit/Image_13.jpg  \n",
            "  inflating: dataset_directory/images/cherry fruit/Image_14.jpg  \n",
            "  inflating: dataset_directory/images/cherry fruit/Image_15.jpg  \n",
            "  inflating: dataset_directory/images/cherry fruit/Image_16.jpg  \n",
            "  inflating: dataset_directory/images/cherry fruit/Image_17.jpg  \n",
            "  inflating: dataset_directory/images/cherry fruit/Image_18.jpg  \n",
            "  inflating: dataset_directory/images/cherry fruit/Image_19.jpg  \n",
            "  inflating: dataset_directory/images/cherry fruit/Image_2.png  \n",
            "  inflating: dataset_directory/images/cherry fruit/Image_20.jpg  \n",
            "  inflating: dataset_directory/images/cherry fruit/Image_21.jpg  \n",
            "  inflating: dataset_directory/images/cherry fruit/Image_22.jpg  \n",
            "  inflating: dataset_directory/images/cherry fruit/Image_23.jpg  \n",
            "  inflating: dataset_directory/images/cherry fruit/Image_24.jpg  \n",
            "  inflating: dataset_directory/images/cherry fruit/Image_25.jpg  \n",
            "  inflating: dataset_directory/images/cherry fruit/Image_26.jpg  \n",
            "  inflating: dataset_directory/images/cherry fruit/Image_27.jpg  \n",
            "  inflating: dataset_directory/images/cherry fruit/Image_28.jpg  \n",
            "  inflating: dataset_directory/images/cherry fruit/Image_29.jpg  \n",
            "  inflating: dataset_directory/images/cherry fruit/Image_3.jpg  \n",
            "  inflating: dataset_directory/images/cherry fruit/Image_30.jpg  \n",
            "  inflating: dataset_directory/images/cherry fruit/Image_31.jpg  \n",
            "  inflating: dataset_directory/images/cherry fruit/Image_32.jpeg  \n",
            "  inflating: dataset_directory/images/cherry fruit/Image_33.jpg  \n",
            "  inflating: dataset_directory/images/cherry fruit/Image_34.jpg  \n",
            "  inflating: dataset_directory/images/cherry fruit/Image_35.jpg  \n",
            "  inflating: dataset_directory/images/cherry fruit/Image_36.jpg  \n",
            "  inflating: dataset_directory/images/cherry fruit/Image_37.jpg  \n",
            "  inflating: dataset_directory/images/cherry fruit/Image_38.jpg  \n",
            "  inflating: dataset_directory/images/cherry fruit/Image_39.jpg  \n",
            "  inflating: dataset_directory/images/cherry fruit/Image_4.jpeg  \n",
            "  inflating: dataset_directory/images/cherry fruit/Image_40.jpg  \n",
            "  inflating: dataset_directory/images/cherry fruit/Image_5.jpg  \n",
            "  inflating: dataset_directory/images/cherry fruit/Image_6.jpg  \n",
            "  inflating: dataset_directory/images/cherry fruit/Image_7.jpg  \n",
            "  inflating: dataset_directory/images/cherry fruit/Image_8.jpg  \n",
            "  inflating: dataset_directory/images/cherry fruit/Image_9.jpg  \n",
            "  inflating: dataset_directory/images/chickoo fruit/Image_1.jpg  \n",
            "  inflating: dataset_directory/images/chickoo fruit/Image_10.jpg  \n",
            "  inflating: dataset_directory/images/chickoo fruit/Image_11.jpg  \n",
            "  inflating: dataset_directory/images/chickoo fruit/Image_12.jpg  \n",
            "  inflating: dataset_directory/images/chickoo fruit/Image_13.jpg  \n",
            "  inflating: dataset_directory/images/chickoo fruit/Image_14.jpg  \n",
            "  inflating: dataset_directory/images/chickoo fruit/Image_15.png  \n",
            "  inflating: dataset_directory/images/chickoo fruit/Image_16.jpg  \n",
            "  inflating: dataset_directory/images/chickoo fruit/Image_17.jpg  \n",
            "  inflating: dataset_directory/images/chickoo fruit/Image_18.jpg  \n",
            "  inflating: dataset_directory/images/chickoo fruit/Image_19.jpg  \n",
            "  inflating: dataset_directory/images/chickoo fruit/Image_2.jpg  \n",
            "  inflating: dataset_directory/images/chickoo fruit/Image_20.jpg  \n",
            "  inflating: dataset_directory/images/chickoo fruit/Image_21.jpg  \n",
            "  inflating: dataset_directory/images/chickoo fruit/Image_22.jpg  \n",
            "  inflating: dataset_directory/images/chickoo fruit/Image_23.jpg  \n",
            "  inflating: dataset_directory/images/chickoo fruit/Image_24.jpg  \n",
            "  inflating: dataset_directory/images/chickoo fruit/Image_25.JPG  \n",
            "  inflating: dataset_directory/images/chickoo fruit/Image_26.jpg  \n",
            "  inflating: dataset_directory/images/chickoo fruit/Image_27.jpg  \n",
            "  inflating: dataset_directory/images/chickoo fruit/Image_28.png  \n",
            "  inflating: dataset_directory/images/chickoo fruit/Image_29.jpg  \n",
            "  inflating: dataset_directory/images/chickoo fruit/Image_3.png  \n",
            "  inflating: dataset_directory/images/chickoo fruit/Image_30.jpg  \n",
            "  inflating: dataset_directory/images/chickoo fruit/Image_31.jpeg  \n",
            "  inflating: dataset_directory/images/chickoo fruit/Image_32.jpg  \n",
            "  inflating: dataset_directory/images/chickoo fruit/Image_33.jpg  \n",
            "  inflating: dataset_directory/images/chickoo fruit/Image_34.jpg  \n",
            "  inflating: dataset_directory/images/chickoo fruit/Image_35.jpg  \n",
            "  inflating: dataset_directory/images/chickoo fruit/Image_36.jpg  \n",
            "  inflating: dataset_directory/images/chickoo fruit/Image_37.jpg  \n",
            "  inflating: dataset_directory/images/chickoo fruit/Image_38.jpg  \n",
            "  inflating: dataset_directory/images/chickoo fruit/Image_39.jpg  \n",
            "  inflating: dataset_directory/images/chickoo fruit/Image_4.jpg  \n",
            "  inflating: dataset_directory/images/chickoo fruit/Image_40.jpg  \n",
            "  inflating: dataset_directory/images/chickoo fruit/Image_5.jpg  \n",
            "  inflating: dataset_directory/images/chickoo fruit/Image_6.jpg  \n",
            "  inflating: dataset_directory/images/chickoo fruit/Image_7.jpg  \n",
            "  inflating: dataset_directory/images/chickoo fruit/Image_8.jpg  \n",
            "  inflating: dataset_directory/images/chickoo fruit/Image_9.jpg  \n",
            "  inflating: dataset_directory/images/grapes fruit/Image_1.jpg  \n",
            "  inflating: dataset_directory/images/grapes fruit/Image_10.jpg  \n",
            "  inflating: dataset_directory/images/grapes fruit/Image_11.jpg  \n",
            "  inflating: dataset_directory/images/grapes fruit/Image_12.jpg  \n",
            "  inflating: dataset_directory/images/grapes fruit/Image_13.jpg  \n",
            "  inflating: dataset_directory/images/grapes fruit/Image_14.jpg  \n",
            "  inflating: dataset_directory/images/grapes fruit/Image_15.jpg  \n",
            "  inflating: dataset_directory/images/grapes fruit/Image_16.jpg  \n",
            "  inflating: dataset_directory/images/grapes fruit/Image_17.jpg  \n",
            "  inflating: dataset_directory/images/grapes fruit/Image_18.jpg  \n",
            "  inflating: dataset_directory/images/grapes fruit/Image_19.jpg  \n",
            "  inflating: dataset_directory/images/grapes fruit/Image_2.jpg  \n",
            "  inflating: dataset_directory/images/grapes fruit/Image_20.jpg  \n",
            "  inflating: dataset_directory/images/grapes fruit/Image_21.jpg  \n",
            "  inflating: dataset_directory/images/grapes fruit/Image_22.jpg  \n",
            "  inflating: dataset_directory/images/grapes fruit/Image_23.jpg  \n",
            "  inflating: dataset_directory/images/grapes fruit/Image_24.jpg  \n",
            "  inflating: dataset_directory/images/grapes fruit/Image_25.jpg  \n",
            "  inflating: dataset_directory/images/grapes fruit/Image_26.jpg  \n",
            "  inflating: dataset_directory/images/grapes fruit/Image_27.jpg  \n",
            "  inflating: dataset_directory/images/grapes fruit/Image_28.jpg  \n",
            "  inflating: dataset_directory/images/grapes fruit/Image_29.jpg  \n",
            "  inflating: dataset_directory/images/grapes fruit/Image_3.jpeg  \n",
            "  inflating: dataset_directory/images/grapes fruit/Image_30.jpeg  \n",
            "  inflating: dataset_directory/images/grapes fruit/Image_31.jpg  \n",
            "  inflating: dataset_directory/images/grapes fruit/Image_32.jpg  \n",
            "  inflating: dataset_directory/images/grapes fruit/Image_33.jpg  \n",
            "  inflating: dataset_directory/images/grapes fruit/Image_34.jpg  \n",
            "  inflating: dataset_directory/images/grapes fruit/Image_35.jpg  \n",
            "  inflating: dataset_directory/images/grapes fruit/Image_36.jpeg  \n",
            "  inflating: dataset_directory/images/grapes fruit/Image_37.jpg  \n",
            "  inflating: dataset_directory/images/grapes fruit/Image_38.jpg  \n",
            "  inflating: dataset_directory/images/grapes fruit/Image_39.jpg  \n",
            "  inflating: dataset_directory/images/grapes fruit/Image_4.jpg  \n",
            "  inflating: dataset_directory/images/grapes fruit/Image_40.jpg  \n",
            "  inflating: dataset_directory/images/grapes fruit/Image_5.jpg  \n",
            "  inflating: dataset_directory/images/grapes fruit/Image_6.jpg  \n",
            "  inflating: dataset_directory/images/grapes fruit/Image_7.jpg  \n",
            "  inflating: dataset_directory/images/grapes fruit/Image_8.jpg  \n",
            "  inflating: dataset_directory/images/grapes fruit/Image_9.jpg  \n",
            "  inflating: dataset_directory/images/kiwi fruit/Image_1.png  \n",
            "  inflating: dataset_directory/images/kiwi fruit/Image_10.jpg  \n",
            "  inflating: dataset_directory/images/kiwi fruit/Image_11.jpg  \n",
            "  inflating: dataset_directory/images/kiwi fruit/Image_12.jpg  \n",
            "  inflating: dataset_directory/images/kiwi fruit/Image_13.jpg  \n",
            "  inflating: dataset_directory/images/kiwi fruit/Image_14.jpg  \n",
            "  inflating: dataset_directory/images/kiwi fruit/Image_15.jpg  \n",
            "  inflating: dataset_directory/images/kiwi fruit/Image_16.jpg  \n",
            "  inflating: dataset_directory/images/kiwi fruit/Image_17.jpg  \n",
            "  inflating: dataset_directory/images/kiwi fruit/Image_18.jpeg  \n",
            "  inflating: dataset_directory/images/kiwi fruit/Image_19.jpg  \n",
            "  inflating: dataset_directory/images/kiwi fruit/Image_2.jpg  \n",
            "  inflating: dataset_directory/images/kiwi fruit/Image_20.jpg  \n",
            "  inflating: dataset_directory/images/kiwi fruit/Image_21.png  \n",
            "  inflating: dataset_directory/images/kiwi fruit/Image_22.jpg  \n",
            "  inflating: dataset_directory/images/kiwi fruit/Image_23.jpg  \n",
            "  inflating: dataset_directory/images/kiwi fruit/Image_24.jpg  \n",
            "  inflating: dataset_directory/images/kiwi fruit/Image_25.jpg  \n",
            "  inflating: dataset_directory/images/kiwi fruit/Image_26.jpg  \n",
            "  inflating: dataset_directory/images/kiwi fruit/Image_27.jpg  \n",
            "  inflating: dataset_directory/images/kiwi fruit/Image_28.jpg  \n",
            "  inflating: dataset_directory/images/kiwi fruit/Image_29.jpg  \n",
            "  inflating: dataset_directory/images/kiwi fruit/Image_3.jpg  \n",
            "  inflating: dataset_directory/images/kiwi fruit/Image_30.jpg  \n",
            "  inflating: dataset_directory/images/kiwi fruit/Image_31.jpg  \n",
            "  inflating: dataset_directory/images/kiwi fruit/Image_32.jpg  \n",
            "  inflating: dataset_directory/images/kiwi fruit/Image_33.jpg  \n",
            "  inflating: dataset_directory/images/kiwi fruit/Image_34.jpg  \n",
            "  inflating: dataset_directory/images/kiwi fruit/Image_35.jpg  \n",
            "  inflating: dataset_directory/images/kiwi fruit/Image_36.jpg  \n",
            "  inflating: dataset_directory/images/kiwi fruit/Image_37.JPG  \n",
            "  inflating: dataset_directory/images/kiwi fruit/Image_38.jpg  \n",
            "  inflating: dataset_directory/images/kiwi fruit/Image_39.jpg  \n",
            "  inflating: dataset_directory/images/kiwi fruit/Image_4.jpg  \n",
            "  inflating: dataset_directory/images/kiwi fruit/Image_40.jpg  \n",
            "  inflating: dataset_directory/images/kiwi fruit/Image_5.jpg  \n",
            "  inflating: dataset_directory/images/kiwi fruit/Image_6.jpg  \n",
            "  inflating: dataset_directory/images/kiwi fruit/Image_7.jpg  \n",
            "  inflating: dataset_directory/images/kiwi fruit/Image_8.jpg  \n",
            "  inflating: dataset_directory/images/kiwi fruit/Image_9.jpg  \n",
            "  inflating: dataset_directory/images/mango fruit/Image_1.jpg  \n",
            "  inflating: dataset_directory/images/mango fruit/Image_10.JPG  \n",
            "  inflating: dataset_directory/images/mango fruit/Image_11.jpg  \n",
            "  inflating: dataset_directory/images/mango fruit/Image_12.jpg  \n",
            "  inflating: dataset_directory/images/mango fruit/Image_13.gif  \n",
            "  inflating: dataset_directory/images/mango fruit/Image_14.jpg  \n",
            "  inflating: dataset_directory/images/mango fruit/Image_15.jpg  \n",
            "  inflating: dataset_directory/images/mango fruit/Image_16.jpg  \n",
            "  inflating: dataset_directory/images/mango fruit/Image_17.jpg  \n",
            "  inflating: dataset_directory/images/mango fruit/Image_18.png  \n",
            "  inflating: dataset_directory/images/mango fruit/Image_19.jpg  \n",
            "  inflating: dataset_directory/images/mango fruit/Image_2.jpg  \n",
            "  inflating: dataset_directory/images/mango fruit/Image_20.jpg  \n",
            "  inflating: dataset_directory/images/mango fruit/Image_21.jpg  \n",
            "  inflating: dataset_directory/images/mango fruit/Image_22.jpg  \n",
            "  inflating: dataset_directory/images/mango fruit/Image_23.JPG  \n",
            "  inflating: dataset_directory/images/mango fruit/Image_24.jpg  \n",
            "  inflating: dataset_directory/images/mango fruit/Image_25.jpg  \n",
            "  inflating: dataset_directory/images/mango fruit/Image_26.jpg  \n",
            "  inflating: dataset_directory/images/mango fruit/Image_27.jpeg  \n",
            "  inflating: dataset_directory/images/mango fruit/Image_28.jpg  \n",
            "  inflating: dataset_directory/images/mango fruit/Image_29.jpg  \n",
            "  inflating: dataset_directory/images/mango fruit/Image_3.jpg  \n",
            "  inflating: dataset_directory/images/mango fruit/Image_30.jpg  \n",
            "  inflating: dataset_directory/images/mango fruit/Image_31.jpg  \n",
            "  inflating: dataset_directory/images/mango fruit/Image_32.jpg  \n",
            "  inflating: dataset_directory/images/mango fruit/Image_33.jpg  \n",
            "  inflating: dataset_directory/images/mango fruit/Image_34.jpg  \n",
            "  inflating: dataset_directory/images/mango fruit/Image_35.jpg  \n",
            "  inflating: dataset_directory/images/mango fruit/Image_36.jpg  \n",
            "  inflating: dataset_directory/images/mango fruit/Image_37.jpeg  \n",
            "  inflating: dataset_directory/images/mango fruit/Image_38.jpg  \n",
            "  inflating: dataset_directory/images/mango fruit/Image_39.jpg  \n",
            "  inflating: dataset_directory/images/mango fruit/Image_4.jpg  \n",
            "  inflating: dataset_directory/images/mango fruit/Image_40.jpg  \n",
            "  inflating: dataset_directory/images/mango fruit/Image_5.jpg  \n",
            "  inflating: dataset_directory/images/mango fruit/Image_6.jpg  \n",
            "  inflating: dataset_directory/images/mango fruit/Image_7.jpg  \n",
            "  inflating: dataset_directory/images/mango fruit/Image_8.jpg  \n",
            "  inflating: dataset_directory/images/mango fruit/Image_9.jpg  \n",
            "  inflating: dataset_directory/images/orange fruit/Image_1.jpg  \n",
            "  inflating: dataset_directory/images/orange fruit/Image_10.jpg  \n",
            "  inflating: dataset_directory/images/orange fruit/Image_11.JPG  \n",
            "  inflating: dataset_directory/images/orange fruit/Image_12.jpg  \n",
            "  inflating: dataset_directory/images/orange fruit/Image_13.jpg  \n",
            "  inflating: dataset_directory/images/orange fruit/Image_14.jpg  \n",
            "  inflating: dataset_directory/images/orange fruit/Image_15.jpg  \n",
            "  inflating: dataset_directory/images/orange fruit/Image_16.jpg  \n",
            "  inflating: dataset_directory/images/orange fruit/Image_17.jpg  \n",
            "  inflating: dataset_directory/images/orange fruit/Image_18.jpg  \n",
            "  inflating: dataset_directory/images/orange fruit/Image_19.jpg  \n",
            "  inflating: dataset_directory/images/orange fruit/Image_2.jpg  \n",
            "  inflating: dataset_directory/images/orange fruit/Image_20.jpg  \n",
            "  inflating: dataset_directory/images/orange fruit/Image_21.jpg  \n",
            "  inflating: dataset_directory/images/orange fruit/Image_22.jpg  \n",
            "  inflating: dataset_directory/images/orange fruit/Image_23.jpg  \n",
            "  inflating: dataset_directory/images/orange fruit/Image_24.jpg  \n",
            "  inflating: dataset_directory/images/orange fruit/Image_25.jpg  \n",
            "  inflating: dataset_directory/images/orange fruit/Image_26.jpg  \n",
            "  inflating: dataset_directory/images/orange fruit/Image_27.jpg  \n",
            "  inflating: dataset_directory/images/orange fruit/Image_28.jpg  \n",
            "  inflating: dataset_directory/images/orange fruit/Image_29.jpg  \n",
            "  inflating: dataset_directory/images/orange fruit/Image_3.jpg  \n",
            "  inflating: dataset_directory/images/orange fruit/Image_30.jpg  \n",
            "  inflating: dataset_directory/images/orange fruit/Image_31.jpg  \n",
            "  inflating: dataset_directory/images/orange fruit/Image_32.jpg  \n",
            "  inflating: dataset_directory/images/orange fruit/Image_33.jpg  \n",
            "  inflating: dataset_directory/images/orange fruit/Image_34.jpeg  \n",
            "  inflating: dataset_directory/images/orange fruit/Image_35.jpg  \n",
            "  inflating: dataset_directory/images/orange fruit/Image_36.JPG  \n",
            "  inflating: dataset_directory/images/orange fruit/Image_37.jpg  \n",
            "  inflating: dataset_directory/images/orange fruit/Image_38.jpg  \n",
            "  inflating: dataset_directory/images/orange fruit/Image_39.JPG  \n",
            "  inflating: dataset_directory/images/orange fruit/Image_4.jpg  \n",
            "  inflating: dataset_directory/images/orange fruit/Image_40.jpg  \n",
            "  inflating: dataset_directory/images/orange fruit/Image_5.jpg  \n",
            "  inflating: dataset_directory/images/orange fruit/Image_6.jpg  \n",
            "  inflating: dataset_directory/images/orange fruit/Image_7.jpg  \n",
            "  inflating: dataset_directory/images/orange fruit/Image_8.jpg  \n",
            "  inflating: dataset_directory/images/orange fruit/Image_9.jpg  \n",
            "  inflating: dataset_directory/images/strawberry fruit/Image_1.jpg  \n",
            "  inflating: dataset_directory/images/strawberry fruit/Image_10.jpg  \n",
            "  inflating: dataset_directory/images/strawberry fruit/Image_11.jpg  \n",
            "  inflating: dataset_directory/images/strawberry fruit/Image_12.jpg  \n",
            "  inflating: dataset_directory/images/strawberry fruit/Image_13.jpg  \n",
            "  inflating: dataset_directory/images/strawberry fruit/Image_14.jpg  \n",
            "  inflating: dataset_directory/images/strawberry fruit/Image_15.jpg  \n",
            "  inflating: dataset_directory/images/strawberry fruit/Image_16.jpg  \n",
            "  inflating: dataset_directory/images/strawberry fruit/Image_17.jpg  \n",
            "  inflating: dataset_directory/images/strawberry fruit/Image_18.jpg  \n",
            "  inflating: dataset_directory/images/strawberry fruit/Image_19.jpg  \n",
            "  inflating: dataset_directory/images/strawberry fruit/Image_2.jpg  \n",
            "  inflating: dataset_directory/images/strawberry fruit/Image_20.jpg  \n",
            "  inflating: dataset_directory/images/strawberry fruit/Image_21.jpg  \n",
            "  inflating: dataset_directory/images/strawberry fruit/Image_22.jpg  \n",
            "  inflating: dataset_directory/images/strawberry fruit/Image_23.jpg  \n",
            "  inflating: dataset_directory/images/strawberry fruit/Image_24.png  \n",
            "  inflating: dataset_directory/images/strawberry fruit/Image_25.jpg  \n",
            "  inflating: dataset_directory/images/strawberry fruit/Image_26.jpg  \n",
            "  inflating: dataset_directory/images/strawberry fruit/Image_27.jpg  \n",
            "  inflating: dataset_directory/images/strawberry fruit/Image_28.jpg  \n",
            "  inflating: dataset_directory/images/strawberry fruit/Image_29.jpg  \n",
            "  inflating: dataset_directory/images/strawberry fruit/Image_3.jpg  \n",
            "  inflating: dataset_directory/images/strawberry fruit/Image_30.jpg  \n",
            "  inflating: dataset_directory/images/strawberry fruit/Image_31.png  \n",
            "  inflating: dataset_directory/images/strawberry fruit/Image_32.jpg  \n",
            "  inflating: dataset_directory/images/strawberry fruit/Image_33.jpg  \n",
            "  inflating: dataset_directory/images/strawberry fruit/Image_34.jpeg  \n",
            "  inflating: dataset_directory/images/strawberry fruit/Image_35.jpg  \n",
            "  inflating: dataset_directory/images/strawberry fruit/Image_36.jpg  \n",
            "  inflating: dataset_directory/images/strawberry fruit/Image_37.jpg  \n",
            "  inflating: dataset_directory/images/strawberry fruit/Image_38.jpg  \n",
            "  inflating: dataset_directory/images/strawberry fruit/Image_39.jpg  \n",
            "  inflating: dataset_directory/images/strawberry fruit/Image_4.jpg  \n",
            "  inflating: dataset_directory/images/strawberry fruit/Image_40.jpg  \n",
            "  inflating: dataset_directory/images/strawberry fruit/Image_5.jpg  \n",
            "  inflating: dataset_directory/images/strawberry fruit/Image_6.jpg  \n",
            "  inflating: dataset_directory/images/strawberry fruit/Image_7.jpg  \n",
            "  inflating: dataset_directory/images/strawberry fruit/Image_8.jpg  \n",
            "  inflating: dataset_directory/images/strawberry fruit/Image_9.jpg  \n"
          ]
        }
      ]
    },
    {
      "cell_type": "code",
      "source": [
        "!unzip /content/fruits-dataset-images.zip -d fruit_dataset"
      ],
      "metadata": {
        "colab": {
          "base_uri": "https://localhost:8080/"
        },
        "id": "O1IgS18CFDTL",
        "outputId": "21bd6b3f-a30b-4d1c-b732-e7d9b0e2c5b2"
      },
      "execution_count": 7,
      "outputs": [
        {
          "output_type": "stream",
          "name": "stdout",
          "text": [
            "Archive:  fruits-dataset-images.zip\n",
            "replace fruit_dataset/images/apple fruit/Image_1.jpg? [y]es, [n]o, [A]ll, [N]one, [r]ename: "
          ]
        }
      ]
    },
    {
      "cell_type": "code",
      "source": [
        "import tensorflow as tf\n",
        "from tensorflow.keras.preprocessing.image import ImageDataGenerator\n",
        "from tensorflow.keras.models import Sequential\n",
        "from tensorflow.keras.layers import Conv2D, MaxPooling2D, Flatten, Dense\n",
        "from tensorflow.keras.applications import VGG16\n",
        "from tensorflow.keras.optimizers import Adam\n",
        "from tensorflow.keras.callbacks import EarlyStopping, ReduceLROnPlateau\n",
        "import matplotlib.pyplot as plt"
      ],
      "metadata": {
        "id": "9dmDeYBIFrUx"
      },
      "execution_count": 8,
      "outputs": []
    },
    {
      "cell_type": "code",
      "source": [
        "path = '/content/dataset_directory/images'"
      ],
      "metadata": {
        "id": "Yp3wLXbLGGrO"
      },
      "execution_count": 9,
      "outputs": []
    },
    {
      "cell_type": "markdown",
      "source": [],
      "metadata": {
        "id": "M9OZsr6-PVUy"
      }
    },
    {
      "cell_type": "code",
      "source": [
        "import os"
      ],
      "metadata": {
        "id": "rfkechMjG0gv"
      },
      "execution_count": 10,
      "outputs": []
    },
    {
      "cell_type": "code",
      "source": [
        "kategori = os.listdir(path)\n",
        "kategori"
      ],
      "metadata": {
        "colab": {
          "base_uri": "https://localhost:8080/"
        },
        "id": "5RMGMIWsG4Ri",
        "outputId": "b24eb2d4-f731-4c51-aa62-57c10210128b"
      },
      "execution_count": 11,
      "outputs": [
        {
          "output_type": "execute_result",
          "data": {
            "text/plain": [
              "['cherry fruit',\n",
              " 'grapes fruit',\n",
              " 'banana fruit',\n",
              " 'strawberry fruit',\n",
              " 'apple fruit',\n",
              " 'orange fruit',\n",
              " 'kiwi fruit',\n",
              " 'chickoo fruit',\n",
              " 'mango fruit']"
            ]
          },
          "metadata": {},
          "execution_count": 11
        }
      ]
    },
    {
      "cell_type": "markdown",
      "source": [
        "## Mengatur path dataset menjadi 3 train, val, test"
      ],
      "metadata": {
        "id": "YTYJGCDHP_d5"
      }
    },
    {
      "cell_type": "code",
      "source": [
        "train_dir = '/content/dataset_directory/images'\n",
        "validation_dir = '/content/dataset_directory/images'\n",
        "test_dir = '/content/dataset_directory/images'"
      ],
      "metadata": {
        "id": "bYf0abrRG8GD"
      },
      "execution_count": 12,
      "outputs": []
    },
    {
      "cell_type": "markdown",
      "source": [
        "# Menggunakan ImageDataGenerator untuk memuat serta melakukan augmentasi pada data"
      ],
      "metadata": {
        "id": "WkNOzzOkQT_2"
      }
    },
    {
      "cell_type": "code",
      "source": [
        "train_datagen = ImageDataGenerator(\n",
        "    rescale=1./255,\n",
        "    rotation_range=20,\n",
        "    width_shift_range=0.2,\n",
        "    height_shift_range=0.2,\n",
        "    shear_range=0.2,\n",
        "    zoom_range=0.2,\n",
        "    horizontal_flip=True,\n",
        "    fill_mode='nearest'\n",
        ")"
      ],
      "metadata": {
        "id": "_0o2mgKuHLGP"
      },
      "execution_count": 13,
      "outputs": []
    },
    {
      "cell_type": "code",
      "source": [
        "validation_datagen = ImageDataGenerator(rescale=1./255)\n",
        "test_datagen = ImageDataGenerator(rescale=1./255)"
      ],
      "metadata": {
        "id": "M70UB5MLHMXa"
      },
      "execution_count": 14,
      "outputs": []
    },
    {
      "cell_type": "markdown",
      "source": [
        "# Split dataset menjadi train, val, dan test"
      ],
      "metadata": {
        "id": "OD9K8KOHQYZz"
      }
    },
    {
      "cell_type": "markdown",
      "source": [
        "Data Train"
      ],
      "metadata": {
        "id": "CHvnXEhbQf12"
      }
    },
    {
      "cell_type": "code",
      "source": [
        "train_generator = train_datagen.flow_from_directory(\n",
        "    train_dir,\n",
        "    target_size=(150, 150),\n",
        "    batch_size=32,\n",
        "    class_mode='binary'\n",
        ")"
      ],
      "metadata": {
        "colab": {
          "base_uri": "https://localhost:8080/"
        },
        "id": "wkZqwDv2HTWy",
        "outputId": "0ef4c678-2ad9-460c-b4fc-bb1cd3a44c49"
      },
      "execution_count": 15,
      "outputs": [
        {
          "output_type": "stream",
          "name": "stdout",
          "text": [
            "Found 359 images belonging to 9 classes.\n"
          ]
        }
      ]
    },
    {
      "cell_type": "markdown",
      "source": [
        "Data Val"
      ],
      "metadata": {
        "id": "Qg_TIJvFQlWe"
      }
    },
    {
      "cell_type": "code",
      "source": [
        "validation_generator = validation_datagen.flow_from_directory(\n",
        "    validation_dir,\n",
        "    target_size=(150, 150),\n",
        "    batch_size=32,\n",
        "    class_mode='binary'\n",
        ")"
      ],
      "metadata": {
        "colab": {
          "base_uri": "https://localhost:8080/"
        },
        "id": "rJLAsbucHUJA",
        "outputId": "2640d7bb-068c-40be-bebc-5d91ef9a6e7d"
      },
      "execution_count": 16,
      "outputs": [
        {
          "output_type": "stream",
          "name": "stdout",
          "text": [
            "Found 359 images belonging to 9 classes.\n"
          ]
        }
      ]
    },
    {
      "cell_type": "markdown",
      "source": [
        "Data Test"
      ],
      "metadata": {
        "id": "6zxRu5r-Qqpo"
      }
    },
    {
      "cell_type": "code",
      "source": [
        "test_generator = test_datagen.flow_from_directory(\n",
        "    test_dir,\n",
        "    target_size=(150, 150),\n",
        "    batch_size=32,\n",
        "    class_mode='binary'\n",
        ")"
      ],
      "metadata": {
        "colab": {
          "base_uri": "https://localhost:8080/"
        },
        "id": "NZC4CP6dHbbh",
        "outputId": "d8a4d3ba-09fa-4fa5-901c-21ce5b60fe39"
      },
      "execution_count": 18,
      "outputs": [
        {
          "output_type": "stream",
          "name": "stdout",
          "text": [
            "Found 359 images belonging to 9 classes.\n"
          ]
        }
      ]
    },
    {
      "cell_type": "markdown",
      "source": [
        "# Membuat model sequential"
      ],
      "metadata": {
        "id": "G6ZvjazNQww2"
      }
    },
    {
      "cell_type": "code",
      "source": [
        "model = Sequential()"
      ],
      "metadata": {
        "id": "_jhLTSXfHf1-"
      },
      "execution_count": 19,
      "outputs": []
    },
    {
      "cell_type": "markdown",
      "source": [
        "# Menggunakan pre-trained model VGG16"
      ],
      "metadata": {
        "id": "-vJ77o7jQ0EW"
      }
    },
    {
      "cell_type": "code",
      "source": [
        "base_model = VGG16(include_top=False, weights='imagenet', input_shape=(150, 150, 3))\n",
        "base_model.trainable = False\n",
        "\n",
        "model.add(base_model)\n",
        "model.add(Flatten())\n",
        "model.add(Dense(256, activation='relu'))\n",
        "model.add(Dense(1, activation='sigmoid'))"
      ],
      "metadata": {
        "colab": {
          "base_uri": "https://localhost:8080/"
        },
        "id": "W1gaiXjAHix3",
        "outputId": "df884345-c405-4951-886b-dbcc31bc4c3e"
      },
      "execution_count": 20,
      "outputs": [
        {
          "output_type": "stream",
          "name": "stdout",
          "text": [
            "Downloading data from https://storage.googleapis.com/tensorflow/keras-applications/vgg16/vgg16_weights_tf_dim_ordering_tf_kernels_notop.h5\n",
            "58889256/58889256 [==============================] - 0s 0us/step\n"
          ]
        }
      ]
    },
    {
      "cell_type": "markdown",
      "source": [
        "# Menggunakan optimizer, loss, dan metrics"
      ],
      "metadata": {
        "id": "HrgvXKlKQ745"
      }
    },
    {
      "cell_type": "code",
      "source": [
        "model.compile(optimizer=Adam(lr=0.0001), loss='binary_crossentropy', metrics=['accuracy'])"
      ],
      "metadata": {
        "colab": {
          "base_uri": "https://localhost:8080/"
        },
        "id": "HcN8qhXdHlk8",
        "outputId": "6b4fa7dc-33d0-411f-bc0c-bec46bffa0ed"
      },
      "execution_count": 21,
      "outputs": [
        {
          "output_type": "stream",
          "name": "stderr",
          "text": [
            "WARNING:absl:`lr` is deprecated in Keras optimizer, please use `learning_rate` or use the legacy optimizer, e.g.,tf.keras.optimizers.legacy.Adam.\n"
          ]
        }
      ]
    },
    {
      "cell_type": "markdown",
      "source": [
        "# Callbacks"
      ],
      "metadata": {
        "id": "8sSyGckeRHHW"
      }
    },
    {
      "cell_type": "code",
      "source": [
        "early_stopping = EarlyStopping(patience=5, restore_best_weights=True)\n",
        "reduce_lr = ReduceLROnPlateau(factor=0.1, patience=3)"
      ],
      "metadata": {
        "id": "IXhkBv8BHux_"
      },
      "execution_count": 22,
      "outputs": []
    },
    {
      "cell_type": "markdown",
      "source": [
        "# Latih Model"
      ],
      "metadata": {
        "id": "pgtqES6yRLpR"
      }
    },
    {
      "cell_type": "code",
      "source": [
        "history = model.fit(\n",
        "    train_generator,\n",
        "    epochs=50,\n",
        "    validation_data=validation_generator,\n",
        "    callbacks=[early_stopping, reduce_lr]\n",
        ")"
      ],
      "metadata": {
        "colab": {
          "base_uri": "https://localhost:8080/"
        },
        "id": "PUUZ-SMyHv-t",
        "outputId": "56280343-db93-4367-ee73-50e97a5040ff"
      },
      "execution_count": 23,
      "outputs": [
        {
          "output_type": "stream",
          "name": "stdout",
          "text": [
            "Epoch 1/50\n",
            "12/12 [==============================] - 34s 2s/step - loss: -195.1602 - accuracy: 0.1086 - val_loss: -472.1304 - val_accuracy: 0.1114 - lr: 0.0010\n",
            "Epoch 2/50\n",
            "12/12 [==============================] - 23s 2s/step - loss: -776.5212 - accuracy: 0.1114 - val_loss: -1117.0177 - val_accuracy: 0.1114 - lr: 0.0010\n",
            "Epoch 3/50\n",
            "12/12 [==============================] - 23s 2s/step - loss: -1474.5809 - accuracy: 0.1114 - val_loss: -1985.0902 - val_accuracy: 0.1114 - lr: 0.0010\n",
            "Epoch 4/50\n",
            "12/12 [==============================] - 22s 2s/step - loss: -2505.5259 - accuracy: 0.1114 - val_loss: -3101.1633 - val_accuracy: 0.1114 - lr: 0.0010\n",
            "Epoch 5/50\n",
            "12/12 [==============================] - 23s 2s/step - loss: -3742.4265 - accuracy: 0.1114 - val_loss: -4500.7910 - val_accuracy: 0.1114 - lr: 0.0010\n",
            "Epoch 6/50\n",
            "12/12 [==============================] - 23s 2s/step - loss: -5244.5444 - accuracy: 0.1114 - val_loss: -6185.8809 - val_accuracy: 0.1114 - lr: 0.0010\n",
            "Epoch 7/50\n",
            "12/12 [==============================] - 22s 2s/step - loss: -7144.5864 - accuracy: 0.1114 - val_loss: -8149.2349 - val_accuracy: 0.1114 - lr: 0.0010\n",
            "Epoch 8/50\n",
            "12/12 [==============================] - 22s 2s/step - loss: -9132.9424 - accuracy: 0.1114 - val_loss: -10483.4209 - val_accuracy: 0.1114 - lr: 0.0010\n",
            "Epoch 9/50\n",
            "12/12 [==============================] - 22s 2s/step - loss: -11652.1318 - accuracy: 0.1114 - val_loss: -13100.6006 - val_accuracy: 0.1114 - lr: 0.0010\n",
            "Epoch 10/50\n",
            "12/12 [==============================] - 21s 2s/step - loss: -14522.9385 - accuracy: 0.1114 - val_loss: -16209.8867 - val_accuracy: 0.1114 - lr: 0.0010\n",
            "Epoch 11/50\n",
            "12/12 [==============================] - 22s 2s/step - loss: -17976.2070 - accuracy: 0.1114 - val_loss: -19603.0293 - val_accuracy: 0.1114 - lr: 0.0010\n",
            "Epoch 12/50\n",
            "12/12 [==============================] - 22s 2s/step - loss: -21317.6426 - accuracy: 0.1114 - val_loss: -23454.2949 - val_accuracy: 0.1114 - lr: 0.0010\n",
            "Epoch 13/50\n",
            "12/12 [==============================] - 22s 2s/step - loss: -25760.4004 - accuracy: 0.1114 - val_loss: -27680.6523 - val_accuracy: 0.1114 - lr: 0.0010\n",
            "Epoch 14/50\n",
            "12/12 [==============================] - 22s 2s/step - loss: -29993.3398 - accuracy: 0.1114 - val_loss: -32171.8301 - val_accuracy: 0.1114 - lr: 0.0010\n",
            "Epoch 15/50\n",
            "12/12 [==============================] - 23s 2s/step - loss: -35029.2852 - accuracy: 0.1114 - val_loss: -37067.0703 - val_accuracy: 0.1114 - lr: 0.0010\n",
            "Epoch 16/50\n",
            "12/12 [==============================] - 22s 2s/step - loss: -39238.7188 - accuracy: 0.1114 - val_loss: -42436.6094 - val_accuracy: 0.1114 - lr: 0.0010\n",
            "Epoch 17/50\n",
            "12/12 [==============================] - 22s 2s/step - loss: -45371.7148 - accuracy: 0.1114 - val_loss: -48007.6484 - val_accuracy: 0.1114 - lr: 0.0010\n",
            "Epoch 18/50\n",
            "12/12 [==============================] - 21s 2s/step - loss: -50799.0469 - accuracy: 0.1114 - val_loss: -54007.4141 - val_accuracy: 0.1114 - lr: 0.0010\n",
            "Epoch 19/50\n",
            "12/12 [==============================] - 22s 2s/step - loss: -57332.3828 - accuracy: 0.1114 - val_loss: -60431.6055 - val_accuracy: 0.1114 - lr: 0.0010\n",
            "Epoch 20/50\n",
            "12/12 [==============================] - 22s 2s/step - loss: -63508.6641 - accuracy: 0.1114 - val_loss: -67333.9219 - val_accuracy: 0.1114 - lr: 0.0010\n",
            "Epoch 21/50\n",
            "12/12 [==============================] - 22s 2s/step - loss: -71545.9844 - accuracy: 0.1114 - val_loss: -74565.3516 - val_accuracy: 0.1114 - lr: 0.0010\n",
            "Epoch 22/50\n",
            "12/12 [==============================] - 22s 2s/step - loss: -78907.8516 - accuracy: 0.1114 - val_loss: -82232.4375 - val_accuracy: 0.1114 - lr: 0.0010\n",
            "Epoch 23/50\n",
            "12/12 [==============================] - 22s 2s/step - loss: -86615.5000 - accuracy: 0.1114 - val_loss: -89983.0312 - val_accuracy: 0.1114 - lr: 0.0010\n",
            "Epoch 24/50\n",
            "12/12 [==============================] - 22s 2s/step - loss: -93985.2266 - accuracy: 0.1114 - val_loss: -98184.9062 - val_accuracy: 0.1114 - lr: 0.0010\n",
            "Epoch 25/50\n",
            "12/12 [==============================] - 22s 2s/step - loss: -102656.3906 - accuracy: 0.1114 - val_loss: -106884.9375 - val_accuracy: 0.1114 - lr: 0.0010\n",
            "Epoch 26/50\n",
            "12/12 [==============================] - 22s 2s/step - loss: -112109.2109 - accuracy: 0.1114 - val_loss: -115937.1016 - val_accuracy: 0.1114 - lr: 0.0010\n",
            "Epoch 27/50\n",
            "12/12 [==============================] - 22s 2s/step - loss: -121270.8203 - accuracy: 0.1114 - val_loss: -125284.2109 - val_accuracy: 0.1114 - lr: 0.0010\n",
            "Epoch 28/50\n",
            "12/12 [==============================] - 22s 2s/step - loss: -130717.3281 - accuracy: 0.1114 - val_loss: -135072.2344 - val_accuracy: 0.1114 - lr: 0.0010\n",
            "Epoch 29/50\n",
            "12/12 [==============================] - 23s 2s/step - loss: -140663.5156 - accuracy: 0.1114 - val_loss: -145513.3750 - val_accuracy: 0.1114 - lr: 0.0010\n",
            "Epoch 30/50\n",
            "12/12 [==============================] - 23s 2s/step - loss: -149901.1094 - accuracy: 0.1114 - val_loss: -155936.5625 - val_accuracy: 0.1114 - lr: 0.0010\n",
            "Epoch 31/50\n",
            "12/12 [==============================] - 22s 2s/step - loss: -160655.5625 - accuracy: 0.1114 - val_loss: -166519.9375 - val_accuracy: 0.1114 - lr: 0.0010\n",
            "Epoch 32/50\n",
            "12/12 [==============================] - 33s 3s/step - loss: -171614.9844 - accuracy: 0.1114 - val_loss: -177075.4375 - val_accuracy: 0.1114 - lr: 0.0010\n",
            "Epoch 33/50\n",
            "12/12 [==============================] - 22s 2s/step - loss: -181466.1562 - accuracy: 0.1114 - val_loss: -188521.7188 - val_accuracy: 0.1114 - lr: 0.0010\n",
            "Epoch 34/50\n",
            "12/12 [==============================] - 22s 2s/step - loss: -195322.4688 - accuracy: 0.1114 - val_loss: -200328.0625 - val_accuracy: 0.1114 - lr: 0.0010\n",
            "Epoch 35/50\n",
            "12/12 [==============================] - 21s 2s/step - loss: -206439.0156 - accuracy: 0.1114 - val_loss: -212648.3594 - val_accuracy: 0.1114 - lr: 0.0010\n",
            "Epoch 36/50\n",
            "12/12 [==============================] - 22s 2s/step - loss: -219663.7812 - accuracy: 0.1114 - val_loss: -224818.6094 - val_accuracy: 0.1114 - lr: 0.0010\n",
            "Epoch 37/50\n",
            "12/12 [==============================] - 23s 2s/step - loss: -232266.5156 - accuracy: 0.1114 - val_loss: -237537.4688 - val_accuracy: 0.1114 - lr: 0.0010\n",
            "Epoch 38/50\n",
            "12/12 [==============================] - 22s 2s/step - loss: -245944.1094 - accuracy: 0.1114 - val_loss: -250542.4375 - val_accuracy: 0.1114 - lr: 0.0010\n",
            "Epoch 39/50\n",
            "12/12 [==============================] - 22s 2s/step - loss: -257513.8281 - accuracy: 0.1114 - val_loss: -263865.5000 - val_accuracy: 0.1114 - lr: 0.0010\n",
            "Epoch 40/50\n",
            "12/12 [==============================] - 22s 2s/step - loss: -270951.2500 - accuracy: 0.1114 - val_loss: -277407.9062 - val_accuracy: 0.1114 - lr: 0.0010\n",
            "Epoch 41/50\n",
            "12/12 [==============================] - 21s 2s/step - loss: -285328.9062 - accuracy: 0.1114 - val_loss: -291786.7188 - val_accuracy: 0.1114 - lr: 0.0010\n",
            "Epoch 42/50\n",
            "12/12 [==============================] - 22s 2s/step - loss: -300985.4375 - accuracy: 0.1114 - val_loss: -306311.5312 - val_accuracy: 0.1114 - lr: 0.0010\n",
            "Epoch 43/50\n",
            "12/12 [==============================] - 22s 2s/step - loss: -314190.2188 - accuracy: 0.1114 - val_loss: -321356.8438 - val_accuracy: 0.1114 - lr: 0.0010\n",
            "Epoch 44/50\n",
            "12/12 [==============================] - 23s 2s/step - loss: -329170.5000 - accuracy: 0.1114 - val_loss: -335868.5312 - val_accuracy: 0.1114 - lr: 0.0010\n",
            "Epoch 45/50\n",
            "12/12 [==============================] - 23s 2s/step - loss: -343749.1562 - accuracy: 0.1114 - val_loss: -351052.5000 - val_accuracy: 0.1114 - lr: 0.0010\n",
            "Epoch 46/50\n",
            "12/12 [==============================] - 23s 2s/step - loss: -358548.2812 - accuracy: 0.1114 - val_loss: -366768.0625 - val_accuracy: 0.1114 - lr: 0.0010\n",
            "Epoch 47/50\n",
            "12/12 [==============================] - 22s 2s/step - loss: -376474.5625 - accuracy: 0.1114 - val_loss: -382987.7188 - val_accuracy: 0.1114 - lr: 0.0010\n",
            "Epoch 48/50\n",
            "12/12 [==============================] - 22s 2s/step - loss: -393310.7500 - accuracy: 0.1114 - val_loss: -399848.6875 - val_accuracy: 0.1114 - lr: 0.0010\n",
            "Epoch 49/50\n",
            "12/12 [==============================] - 22s 2s/step - loss: -410105.0625 - accuracy: 0.1114 - val_loss: -416652.3750 - val_accuracy: 0.1114 - lr: 0.0010\n",
            "Epoch 50/50\n",
            "12/12 [==============================] - 22s 2s/step - loss: -426993.4375 - accuracy: 0.1114 - val_loss: -434120.1562 - val_accuracy: 0.1114 - lr: 0.0010\n"
          ]
        }
      ]
    },
    {
      "cell_type": "markdown",
      "source": [
        "# Evaluasi model"
      ],
      "metadata": {
        "id": "ILvRhm-dRSe-"
      }
    },
    {
      "cell_type": "code",
      "source": [
        "test_loss, test_accuracy = model.evaluate(test_generator)\n",
        "print(f'Akurasi pada data test: {test_accuracy:.2f}')"
      ],
      "metadata": {
        "colab": {
          "base_uri": "https://localhost:8080/"
        },
        "id": "3o-oYvi3H0ek",
        "outputId": "5ef096d2-e24c-4eac-a11a-1f9ce593b07e"
      },
      "execution_count": 24,
      "outputs": [
        {
          "output_type": "stream",
          "name": "stdout",
          "text": [
            "12/12 [==============================] - 10s 836ms/step - loss: -434120.1562 - accuracy: 0.1114\n",
            "Akurasi pada data test: 0.11\n"
          ]
        }
      ]
    },
    {
      "cell_type": "markdown",
      "source": [
        "# Membuat grafik pergerakan metrik Accuracy dan Loss terhadap epoch pada Training dan Validation"
      ],
      "metadata": {
        "id": "KsLG_YKCRbb8"
      }
    },
    {
      "cell_type": "code",
      "source": [
        "acc = history.history['accuracy']\n",
        "val_acc = history.history['val_accuracy']\n",
        "loss = history.history['loss']\n",
        "val_loss = history.history['val_loss']\n",
        "\n",
        "epochs = range(1, len(acc) + 1)"
      ],
      "metadata": {
        "id": "10LuN5gQNd48"
      },
      "execution_count": 25,
      "outputs": []
    },
    {
      "cell_type": "markdown",
      "source": [
        "# Grafik Accuracy"
      ],
      "metadata": {
        "id": "y7YnksDwReVr"
      }
    },
    {
      "cell_type": "code",
      "source": [
        "plt.figure(figsize=(14, 5))\n",
        "plt.subplot(1, 2, 1)\n",
        "plt.plot(epochs, acc, 'r', label='Train')\n",
        "plt.plot(epochs, val_acc, 'b', label='Val')\n",
        "plt.title('Model Accuracy')\n",
        "plt.legend()"
      ],
      "metadata": {
        "colab": {
          "base_uri": "https://localhost:8080/",
          "height": 485
        },
        "id": "8X8JxQ3YNezF",
        "outputId": "9ff1b923-0f18-4516-c711-58a1ec23709a"
      },
      "execution_count": 26,
      "outputs": [
        {
          "output_type": "execute_result",
          "data": {
            "text/plain": [
              "<matplotlib.legend.Legend at 0x787434bd23e0>"
            ]
          },
          "metadata": {},
          "execution_count": 26
        },
        {
          "output_type": "display_data",
          "data": {
            "text/plain": [
              "<Figure size 1400x500 with 1 Axes>"
            ],
            "image/png": "[encoded data removed]"
          },
          "metadata": {}
        }
      ]
    },
    {
      "cell_type": "markdown",
      "source": [
        "# Grafik Loss"
      ],
      "metadata": {
        "id": "3ZCDuURIRl2J"
      }
    },
    {
      "cell_type": "code",
      "source": [
        "plt.figure(figsize=(14, 5))\n",
        "plt.subplot(1, 2, 2)\n",
        "plt.plot(epochs, loss, 'r', label='Train')\n",
        "plt.plot(epochs, val_loss, 'b', label='Val')\n",
        "plt.title('Model Loss')\n",
        "plt.legend()\n",
        "\n",
        "plt.show()"
      ],
      "metadata": {
        "colab": {
          "base_uri": "https://localhost:8080/",
          "height": 468
        },
        "id": "y2xz6SuANiq3",
        "outputId": "6a8ec78d-248c-45a6-e437-dc71ef2cd157"
      },
      "execution_count": 27,
      "outputs": [
        {
          "output_type": "display_data",
          "data": {
            "text/plain": [
              "<Figure size 1400x500 with 1 Axes>"
            ],
            "image/png": "[encoded data removed]"
          },
          "metadata": {}
        }
      ]
    },
    {
      "cell_type": "code",
      "source": [],
      "metadata": {
        "id": "1G-WVbE0NnPQ"
      },
      "execution_count": null,
      "outputs": []
    }
  ]
}